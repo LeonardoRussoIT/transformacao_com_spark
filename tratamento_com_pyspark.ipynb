{
 "cells": [
  {
   "cell_type": "code",
   "execution_count": null,
   "id": "eebbf5ac",
   "metadata": {},
   "outputs": [],
   "source": [
    "%pip install spark"
   ]
  },
  {
   "cell_type": "code",
   "execution_count": null,
   "id": "62990e54",
   "metadata": {},
   "outputs": [],
   "source": [
    "%pip install pyspark"
   ]
  },
  {
   "cell_type": "code",
   "execution_count": null,
   "id": "9ce2d76c",
   "metadata": {},
   "outputs": [],
   "source": [
    "from pyspark.sql import SparkSession"
   ]
  },
  {
   "cell_type": "code",
   "execution_count": null,
   "id": "9995238f",
   "metadata": {
    "scrolled": true
   },
   "outputs": [],
   "source": [
    "spark = SparkSession.builder.master('local[*]').appName('transformacao com Spark 1').getOrCreate()"
   ]
  },
  {
   "cell_type": "code",
   "execution_count": null,
   "id": "2da45aa5",
   "metadata": {},
   "outputs": [],
   "source": [
    "spark"
   ]
  },
  {
   "cell_type": "code",
   "execution_count": null,
   "id": "18c172dd",
   "metadata": {},
   "outputs": [],
   "source": [
    "dados = spark.read\\\n",
    "    .format('csv')\\\n",
    "    .option('inferSchema', 'true')\\\n",
    "    .option('sep', ',')\\\n",
    "    .option('header', 'true')\\\n",
    "    .load('dados/dados_clientes.csv')"
   ]
  },
  {
   "cell_type": "markdown",
   "id": "975d61b5",
   "metadata": {},
   "source": [
    "### Explorando dados"
   ]
  },
  {
   "cell_type": "code",
   "execution_count": null,
   "id": "b397d59b",
   "metadata": {},
   "outputs": [],
   "source": [
    "dados"
   ]
  },
  {
   "cell_type": "code",
   "execution_count": null,
   "id": "8f7ae637",
   "metadata": {},
   "outputs": [],
   "source": [
    "dados.limit(15).toPandas()"
   ]
  },
  {
   "cell_type": "code",
   "execution_count": null,
   "id": "a0688f25",
   "metadata": {},
   "outputs": [],
   "source": [
    "dados.count()"
   ]
  },
  {
   "cell_type": "code",
   "execution_count": null,
   "id": "969dfa21",
   "metadata": {},
   "outputs": [],
   "source": [
    "dados.groupBy('Churn').count().show()"
   ]
  },
  {
   "cell_type": "code",
   "execution_count": null,
   "id": "c7361fbb",
   "metadata": {},
   "outputs": [],
   "source": [
    "dados.printSchema()"
   ]
  },
  {
   "cell_type": "markdown",
   "id": "9dd347b9",
   "metadata": {},
   "source": [
    "### Colunas binárias"
   ]
  },
  {
   "cell_type": "code",
   "execution_count": null,
   "id": "bbc366b5",
   "metadata": {},
   "outputs": [],
   "source": [
    "colunasBinarias = [\n",
    "    'Churn',\n",
    "    'Conjuge',\n",
    "    'Dependentes',\n",
    "    'TelefoneFixo',\n",
    "    'MaisDeUmaLinhaTelefonica',\n",
    "    'SegurancaOnline',\n",
    "    'BackupOnline',\n",
    "    'SeguroDispositivo',\n",
    "    'SuporteTecnico',\n",
    "    'TVaCabo',\n",
    "    'StreamingFilmes',\n",
    "    'ContaCorreio'\n",
    "]"
   ]
  },
  {
   "cell_type": "code",
   "execution_count": null,
   "id": "68cac31d",
   "metadata": {},
   "outputs": [],
   "source": [
    "from pyspark.sql import functions as f"
   ]
  },
  {
   "cell_type": "code",
   "execution_count": null,
   "id": "e7c653e4",
   "metadata": {},
   "outputs": [],
   "source": [
    "todasColunas = [f.when(f.col(c)== 'Sim', 1).otherwise(0).alias(c) for c in colunasBinarias] "
   ]
  },
  {
   "cell_type": "code",
   "execution_count": null,
   "id": "c256492e",
   "metadata": {},
   "outputs": [],
   "source": [
    "todasColunas\n",
    "# Podemos ler a primeira linha como: quando Churn for igual a \"Sim\", \n",
    "# seu valor será 1; caso contrário, será igual a 0. \"AS Churn\" é a atribuição do apelido para a coluna."
   ]
  },
  {
   "cell_type": "code",
   "execution_count": null,
   "id": "3d0c0b4e",
   "metadata": {},
   "outputs": [],
   "source": [
    "for coluna in reversed(dados.columns): \n",
    "    if coluna not in colunasBinarias:\n",
    "        todasColunas.insert(0, coluna)\n",
    "todasColunas"
   ]
  },
  {
   "cell_type": "code",
   "execution_count": null,
   "id": "2d8f894b",
   "metadata": {},
   "outputs": [],
   "source": [
    "dados.select(todasColunas).show()"
   ]
  },
  {
   "cell_type": "code",
   "execution_count": null,
   "id": "0d166c15",
   "metadata": {},
   "outputs": [],
   "source": [
    "dataset = dados.select(todasColunas)"
   ]
  },
  {
   "cell_type": "code",
   "execution_count": null,
   "id": "17ad2ba3",
   "metadata": {},
   "outputs": [],
   "source": [
    "dataset.printSchema()"
   ]
  },
  {
   "cell_type": "markdown",
   "id": "89cbd4af",
   "metadata": {},
   "source": [
    "### Criando dummies"
   ]
  },
  {
   "cell_type": "code",
   "execution_count": null,
   "id": "5221d08d",
   "metadata": {},
   "outputs": [],
   "source": [
    "dados.select(['Internet', 'TipoContrato', 'MetodoPagamento']).show()"
   ]
  },
  {
   "cell_type": "code",
   "execution_count": null,
   "id": "386df981",
   "metadata": {},
   "outputs": [],
   "source": [
    "dataset.groupBy('id').pivot('Internet').agg(f.lit(1)).na.fill(0).show()"
   ]
  },
  {
   "cell_type": "code",
   "execution_count": null,
   "id": "88229088",
   "metadata": {},
   "outputs": [],
   "source": [
    "Internet = dataset.groupBy('id').pivot('Internet').agg(f.lit(1)).na.fill(0)\n",
    "TipoContrato = dataset.groupBy('id').pivot('TipoContrato').agg(f.lit(1)).na.fill(0)\n",
    "MetodoPagamento = dataset.groupBy('id').pivot('MetodoPagamento').agg(f.lit(1)).na.fill(0)"
   ]
  },
  {
   "cell_type": "code",
   "execution_count": null,
   "id": "9bd21390",
   "metadata": {},
   "outputs": [],
   "source": [
    "dataset = dataset\\\n",
    "    .join(Internet, 'id', how='inner')\\\n",
    "    .join(TipoContrato, 'id', how='inner')\\\n",
    "    .join(MetodoPagamento, 'id', how='inner')\\\n",
    "    .select(\n",
    "        '*',\n",
    "        f.col('DSL').alias('Internet_DSL'), \n",
    "        f.col('FibraOptica').alias('Internet_FibraOptica'), \n",
    "        f.col('Nao').alias('Internet_Nao'), \n",
    "        f.col('Mensalmente').alias('TipoContrato_Mensalmente'), \n",
    "        f.col('UmAno').alias('TipoContrato_UmAno'), \n",
    "        f.col('DoisAnos').alias('TipoContrato_DoisAnos'), \n",
    "        f.col('DebitoEmConta').alias('MetodoPagamento_DebitoEmConta'), \n",
    "        f.col('CartaoCredito').alias('MetodoPagamento_CartaoCredito'), \n",
    "        f.col('BoletoEletronico').alias('MetodoPagamento_BoletoEletronico'), \n",
    "        f.col('Boleto').alias('MetodoPagamento_Boleto')        \n",
    "    ).drop(\n",
    "        'Internet', 'TipoContrato', 'MetodoPagamento', 'DSL', \n",
    "        'FibraOptica', 'Nao', 'Mensalmente', 'UmAno', 'DoisAnos', \n",
    "        'DebitoEmConta', 'CartaoCredito', 'BoletoEletronico', 'Boleto'\n",
    "    )"
   ]
  },
  {
   "cell_type": "code",
   "execution_count": null,
   "id": "3a6a9ccf",
   "metadata": {},
   "outputs": [],
   "source": [
    "dataset.printSchema()"
   ]
  },
  {
   "cell_type": "markdown",
   "id": "c5aeb289",
   "metadata": {},
   "source": [
    "### Salvando"
   ]
  },
  {
   "cell_type": "code",
   "execution_count": null,
   "id": "c86c5ace",
   "metadata": {},
   "outputs": [],
   "source": [
    "dataset.write.mode(\"overwrite\").format('csv').save('/dados/')"
   ]
  }
 ],
 "metadata": {
  "kernelspec": {
   "display_name": "Python 3 (ipykernel)",
   "language": "python",
   "name": "python3"
  },
  "language_info": {
   "codemirror_mode": {
    "name": "ipython",
    "version": 3
   },
   "file_extension": ".py",
   "mimetype": "text/x-python",
   "name": "python",
   "nbconvert_exporter": "python",
   "pygments_lexer": "ipython3",
   "version": "3.11.4"
  }
 },
 "nbformat": 4,
 "nbformat_minor": 5
}
